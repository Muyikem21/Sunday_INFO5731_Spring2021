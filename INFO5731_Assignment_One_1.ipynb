{
  "nbformat": 4,
  "nbformat_minor": 0,
  "metadata": {
    "colab": {
      "name": "INFO5731_Assignment_One-1.ipynb",
      "provenance": [],
      "collapsed_sections": [],
      "include_colab_link": true
    },
    "kernelspec": {
      "display_name": "Python 3",
      "language": "python",
      "name": "python3"
    },
    "language_info": {
      "codemirror_mode": {
        "name": "ipython",
        "version": 3
      },
      "file_extension": ".py",
      "mimetype": "text/x-python",
      "name": "python",
      "nbconvert_exporter": "python",
      "pygments_lexer": "ipython3",
      "version": "3.7.4"
    }
  },
  "cells": [
    {
      "cell_type": "markdown",
      "metadata": {
        "id": "view-in-github",
        "colab_type": "text"
      },
      "source": [
        "<a href=\"https://colab.research.google.com/github/Muyikem21/Sunday_INFO5731_Spring2021/blob/main/INFO5731_Assignment_One_1.ipynb\" target=\"_parent\"><img src=\"https://colab.research.google.com/assets/colab-badge.svg\" alt=\"Open In Colab\"/></a>"
      ]
    },
    {
      "cell_type": "markdown",
      "metadata": {
        "id": "OoWGHswrLwyt"
      },
      "source": [
        ""
      ]
    },
    {
      "cell_type": "markdown",
      "metadata": {
        "id": "Ryk8D1Q4Wsrp"
      },
      "source": [
        "# **INFO5731 Assignment One**"
      ]
    },
    {
      "cell_type": "markdown",
      "metadata": {
        "id": "90_NR8c5XGWc"
      },
      "source": [
        "# Question 1\n",
        "\n",
        "(20 points). Write a Python program to generate 12 random numbers between 1 and 100. Sort the list of numbers in ascending order and print it out. Sort the list of numbers in descending order and print it out. Calculate the average for the group and print it out."
      ]
    },
    {
      "cell_type": "code",
      "metadata": {
        "colab": {
          "base_uri": "https://localhost:8080/"
        },
        "id": "5QX6bJjGWXY9",
        "outputId": "14664f7e-d26a-40b0-8587-c6c79c29481d"
      },
      "source": [
        "import random\n",
        "list = []\n",
        "for x in range (12):\n",
        "  num = random.randint(1, 100)\n",
        "  list.append(num)\n",
        "print(\"The 12 randomly generated number in between 1 to 100\")\n",
        "for i in range (len(list)):\n",
        "  print(list[i], end ='',)\n",
        "list.sort()\n",
        "print(\"\\nList in Ascending order:\")\n",
        "for i in range (len(list)):\n",
        "  print(list[i], end ='',)\n",
        "print(\"\\nList in Decending order:\")\n",
        "for i in range (len(list)):\n",
        "  print(list[i], end ='')\n",
        "print(\"Average\", sum(list)/len(list)) \n",
        "  \n"
      ],
      "execution_count": null,
      "outputs": [
        {
          "output_type": "stream",
          "text": [
            "The 12 randomly generated number in between 1 to 100\n",
            "772439361668394565686959\n",
            "List in Ascending order:\n",
            "162436393945596568686977\n",
            "List in Decending order:\n",
            "162436393945596568686977Average 50.416666666666664\n"
          ],
          "name": "stdout"
        }
      ]
    },
    {
      "cell_type": "markdown",
      "metadata": {
        "id": "1F_PZdH9Sh49"
      },
      "source": [
        "# Question 2\n",
        "(25 points). Write a program that will do the following string formatting tasks:\n",
        "\n",
        "(1) Ask the user to enter two sentences.\n",
        "\n",
        "(2) Make each sentence into a list. Each element in the list should correspond to a word in the sentence. For example, if the sentence is \"Alas! Am I alive? This is my first python program\", the program should print out ['Alas, '!', 'Am', 'I', 'alive, '?', 'This', 'is', 'my', 'first', 'python', 'program'].\n",
        "\n",
        "(3) Compare the two sentences. Print out a list of words that occur in both sentences.\n",
        "\n",
        "(4) Remove any punctuation from the sentence and print it back out. It should remove at least the following characters, but it can remove more: period(“.”), comma (“,”), semicolon (“;”), and colon (“:”)\n",
        "\n",
        "(5) Count the number of vowels in the sentences. Print out each vowel and the number of times it appears in the sentences, such as: a:2, e:1, i:0, etc"
      ]
    },
    {
      "cell_type": "code",
      "metadata": {
        "colab": {
          "base_uri": "https://localhost:8080/"
        },
        "id": "Y0oOSlsOS0cq",
        "outputId": "4e1f80e3-1f89-44ff-d3ae-7f7697437ab9"
      },
      "source": [
        "import string\n",
        "import re\n",
        "\n",
        "one = input(\"Enter first string: \")\n",
        "two = input(\"Enter second string: \")\n",
        "\n",
        "a = re.findall(r\"[\\w']+|[.,!?;:]\", one)\n",
        "b = re.findall(r\"[\\w']+|[.,!?;:]\", two)\n",
        "\n",
        "print(\"First list:\",a)\n",
        "print(\"Second list:\",b)\n",
        "\n",
        "print(\"\\nFollowing are common\")\n",
        "for word in a:\n",
        " for other in b:\n",
        "  if word.lower() == other.lower():\n",
        "   print(word)\n",
        "  \n",
        "print(\"\\nFollowing are common without punctuation\")\n",
        "for word in a:\n",
        " for other in b:\n",
        "  if word.lower() == other.lower() and word not in string.punctuation:\n",
        "     print(word)\n",
        "  \n",
        "vowels = {'a':0, 'e':0, 'i':0, 'o':0, 'u':0}\n",
        "for letter in one:\n",
        " if letter.lower() in vowels:\n",
        "  vowels[letter.lower()] += 1\n",
        "\n",
        "print(\"\\nVowel frequency \",vowels)\n",
        "\n"
      ],
      "execution_count": 40,
      "outputs": [
        {
          "output_type": "stream",
          "text": [
            "Enter first string: I AM AN INSTRUCTOR\n",
            "Enter second string: I AM AN INSTRUCTOR WITH REPUTATION\n",
            "First list: ['I', 'AM', 'AN', 'INSTRUCTOR']\n",
            "Second list: ['I', 'AM', 'AN', 'INSTRUCTOR', 'WITH', 'REPUTATION']\n",
            "\n",
            "Following are common\n",
            "I\n",
            "AM\n",
            "AN\n",
            "INSTRUCTOR\n",
            "\n",
            "Following are common without punctuation\n",
            "I\n",
            "AM\n",
            "AN\n",
            "INSTRUCTOR\n",
            "\n",
            "Vowel frequency  {'a': 2, 'e': 0, 'i': 2, 'o': 1, 'u': 1}\n"
          ],
          "name": "stdout"
        }
      ]
    },
    {
      "cell_type": "markdown",
      "metadata": {
        "id": "CmFoI4jDS9nx"
      },
      "source": [
        "# Question 3 \n",
        "\n",
        "(15 points). The formula that describes the volume V of a sphere with radius r is the following:\n",
        "\n",
        "$ V=\\frac{4}{3}\\ast\\ \\pi\\ast\\ r^3 $\n",
        "\n",
        "Write a program to calculate the value of V when r is in the range of 1–10. Output the result in the following format:\n",
        "\n",
        "\tr\tV\n",
        "\t1\t…\n",
        "\t2\t…\n",
        "\t3\t…\n"
      ]
    },
    {
      "cell_type": "code",
      "metadata": {
        "id": "pEyqeioAT95b",
        "colab": {
          "base_uri": "https://localhost:8080/"
        },
        "outputId": "893fa738-edea-45d4-c814-109ee4205167"
      },
      "source": [
        "import math\r\n",
        "print(\"r/t v\")\r\n",
        "for x in range (1, 10):\r\n",
        "  v=4/3*math.pi*math.pow(x, 3)\r\n",
        "  print(x, \"\\t\", v, \"\\n\", end='',)"
      ],
      "execution_count": null,
      "outputs": [
        {
          "output_type": "stream",
          "text": [
            "r/t v\n",
            "1 \t 4.1887902047863905 \n",
            "2 \t 33.510321638291124 \n",
            "3 \t 113.09733552923254 \n",
            "4 \t 268.082573106329 \n",
            "5 \t 523.5987755982989 \n",
            "6 \t 904.7786842338603 \n",
            "7 \t 1436.7550402417319 \n",
            "8 \t 2144.660584850632 \n",
            "9 \t 3053.6280592892786 \n"
          ],
          "name": "stdout"
        }
      ]
    },
    {
      "cell_type": "code",
      "metadata": {
        "id": "0yCXShX8X8oj"
      },
      "source": [
        ""
      ],
      "execution_count": null,
      "outputs": []
    },
    {
      "cell_type": "markdown",
      "metadata": {
        "id": "z3tBE7E-Xn5X"
      },
      "source": [
        "# Question 4\n",
        "\n",
        "(40 points). In the field of Data Science, data is often formatted as a comma-delimited (CSV) file, where each line in a file corresponds to a field's value. Refer to Chapter 9 (p. 106) for more information on comma-delimited files. To answer this question, you will need to download the file [Assignment1_denton_housing.csv](https://github.com/unt-iialab/info5731_spring2021/blob/main/assignment/Assignment1_denton_housing.csv) included with this assignment. The file [Assignment1_denton_housing.csv](https://github.com/unt-iialab/info5731_spring2021/blob/main/assignment/Assignment1_denton_housing.csv) contains statistics about housing in the city of Denton from 2008 to 2014. Write a program to implement the following questions.\n",
        "\n",
        "(1) (10 pts) Calculate the difference in the number of Occupied Housing Units from year to year and print it. The difference must be calculated for the consecutive years such as 2008-2009, 2009-2010 etc. Finally, print the values in the ascending order.\n",
        "\n",
        "(2) (10 pts) For all the years, calculate the percentage of housing units which are vacant an occupied. Print the results in the following format:\n",
        "\n",
        "Year Vacant Housing Units Occupied Housing Units\n",
        "\n",
        "    2008  30%   70%                          \n",
        "\t2009 ----- -----\n",
        "\t2010 ----- -----\n",
        "    2011 ----- -----\n",
        "\t2012 ----- -----\n",
        "    2013 ----- -----\n",
        "\t2014 ----- -----\n",
        "  \n",
        "  \n",
        "\n",
        "(3) (10 pts) Calculate and print the valued and years in which the highest number of housing units were vacant and occupied. Print the results in the following format:  \n",
        "\n",
        "                              Year\tValue\n",
        "\tVacant Housing Units\t  -----   -----\n",
        "\tOccupied Housing Units\t-----   -----\n",
        "\n",
        "(4) (10 pts) Calculate the harmonic mean of the total housing units and print it out. You can find the information about harmonic mean here: https://ncalculators.com/statistics/harmonic-mean-calculator.htm"
      ]
    },
    {
      "cell_type": "code",
      "metadata": {
        "id": "lqGYuHBhcsRH",
        "colab": {
          "base_uri": "https://localhost:8080/",
          "height": 215
        },
        "outputId": "b715e428-4031-4a14-e535-b013d36de351"
      },
      "source": [
        "import pandas as pd\n",
        "import statistics\n",
        "house = pd.read_csv('Assignment1_denton_housing.csv')\n",
        "print('Shape: ',house.shape)\n",
        "house.head()\n"
      ],
      "execution_count": 34,
      "outputs": [
        {
          "output_type": "stream",
          "text": [
            "Shape:  (42, 3)\n"
          ],
          "name": "stdout"
        },
        {
          "output_type": "execute_result",
          "data": {
            "text/html": [
              "<div>\n",
              "<style scoped>\n",
              "    .dataframe tbody tr th:only-of-type {\n",
              "        vertical-align: middle;\n",
              "    }\n",
              "\n",
              "    .dataframe tbody tr th {\n",
              "        vertical-align: top;\n",
              "    }\n",
              "\n",
              "    .dataframe thead th {\n",
              "        text-align: right;\n",
              "    }\n",
              "</style>\n",
              "<table border=\"1\" class=\"dataframe\">\n",
              "  <thead>\n",
              "    <tr style=\"text-align: right;\">\n",
              "      <th></th>\n",
              "      <th>year</th>\n",
              "      <th>title_field</th>\n",
              "      <th>value</th>\n",
              "    </tr>\n",
              "  </thead>\n",
              "  <tbody>\n",
              "    <tr>\n",
              "      <th>0</th>\n",
              "      <td>2014</td>\n",
              "      <td>Total Housing Units</td>\n",
              "      <td>49109</td>\n",
              "    </tr>\n",
              "    <tr>\n",
              "      <th>1</th>\n",
              "      <td>2014</td>\n",
              "      <td>Vacant Housing Units</td>\n",
              "      <td>2814</td>\n",
              "    </tr>\n",
              "    <tr>\n",
              "      <th>2</th>\n",
              "      <td>2014</td>\n",
              "      <td>Occupied Housing Units</td>\n",
              "      <td>46295</td>\n",
              "    </tr>\n",
              "    <tr>\n",
              "      <th>3</th>\n",
              "      <td>2013</td>\n",
              "      <td>Total Housing Units</td>\n",
              "      <td>47888</td>\n",
              "    </tr>\n",
              "    <tr>\n",
              "      <th>4</th>\n",
              "      <td>2013</td>\n",
              "      <td>Vacant Housing Units</td>\n",
              "      <td>4215</td>\n",
              "    </tr>\n",
              "  </tbody>\n",
              "</table>\n",
              "</div>"
            ],
            "text/plain": [
              "   year             title_field  value\n",
              "0  2014     Total Housing Units  49109\n",
              "1  2014    Vacant Housing Units   2814\n",
              "2  2014  Occupied Housing Units  46295\n",
              "3  2013     Total Housing Units  47888\n",
              "4  2013    Vacant Housing Units   4215"
            ]
          },
          "metadata": {
            "tags": []
          },
          "execution_count": 34
        }
      ]
    },
    {
      "cell_type": "code",
      "metadata": {
        "colab": {
          "base_uri": "https://localhost:8080/"
        },
        "id": "cJVMHQ3gPTAr",
        "outputId": "89e219e6-0e33-4868-bb78-99b676e9f563"
      },
      "source": [
        "occuped_houses = house[house['title_field'] == 'Occupied Housing Units'].sort_values(by=['year'])\r\n",
        "\r\n",
        "diff_house = [(occuped_houses['value'].values)[loop1] - (occuped_houses['value'].values)[loop1+1]\\\r\n",
        "              for loop1 in range(len(occuped_houses)-1)]\r\n",
        "diff_house = sorted(diff_house)    # sorting in ascending order\r\n",
        "diff_house"
      ],
      "execution_count": 36,
      "outputs": [
        {
          "output_type": "execute_result",
          "data": {
            "text/plain": [
              "[-5091, -2622, -1565, -1404, 303, 795]"
            ]
          },
          "metadata": {
            "tags": []
          },
          "execution_count": 36
        }
      ]
    },
    {
      "cell_type": "code",
      "metadata": {
        "colab": {
          "base_uri": "https://localhost:8080/",
          "height": 258
        },
        "id": "u2pXL-CFRy1R",
        "outputId": "8ef3421e-b0af-4a36-d73c-a7b4563d6fea"
      },
      "source": [
        "unique_years = sorted(house['year'].unique())   # legging list of unique year number\r\n",
        "\r\n",
        "# number of ocupied houses\r\n",
        "occuped_houses = house[house['title_field'] == 'Occupied Housing Units'].sort_values(by=['year'])\r\n",
        "\r\n",
        "# number of vacant houses\r\n",
        "vacant_houses = house[house['title_field'] == 'Vacant Housing Units'].sort_values(by=['year'])\r\n",
        "\r\n",
        "new_house_df = pd.DataFrame()\r\n",
        "new_house_df['year'] = unique_years\r\n",
        "new_house_df['Vacant House'] = vacant_houses['value'].values\r\n",
        "new_house_df['Occupied House'] = occuped_houses['value'].values\r\n",
        "new_house_df['Percent of Vacant House'] = [(new_house_df['Vacant House'][loop1] * 100) /\\\r\n",
        "                                           (new_house_df['Vacant House'][loop1] + new_house_df['Occupied House'][loop1])\\\r\n",
        "                                           for loop1 in range(len(new_house_df))]\r\n",
        "new_house_df['Percent of Occupied House'] = [(new_house_df['Occupied House'][loop1] * 100) /\\\r\n",
        "                                           (new_house_df['Vacant House'][loop1] + new_house_df['Occupied House'][loop1])\\\r\n",
        "                                           for loop1 in range(len(new_house_df))]\r\n",
        "new_house_df"
      ],
      "execution_count": 38,
      "outputs": [
        {
          "output_type": "execute_result",
          "data": {
            "text/html": [
              "<div>\n",
              "<style scoped>\n",
              "    .dataframe tbody tr th:only-of-type {\n",
              "        vertical-align: middle;\n",
              "    }\n",
              "\n",
              "    .dataframe tbody tr th {\n",
              "        vertical-align: top;\n",
              "    }\n",
              "\n",
              "    .dataframe thead th {\n",
              "        text-align: right;\n",
              "    }\n",
              "</style>\n",
              "<table border=\"1\" class=\"dataframe\">\n",
              "  <thead>\n",
              "    <tr style=\"text-align: right;\">\n",
              "      <th></th>\n",
              "      <th>year</th>\n",
              "      <th>Vacant House</th>\n",
              "      <th>Occupied House</th>\n",
              "      <th>Percent of Vacant House</th>\n",
              "      <th>Percent of Occupied House</th>\n",
              "    </tr>\n",
              "  </thead>\n",
              "  <tbody>\n",
              "    <tr>\n",
              "      <th>0</th>\n",
              "      <td>2008</td>\n",
              "      <td>4483</td>\n",
              "      <td>36711</td>\n",
              "      <td>10.882653</td>\n",
              "      <td>89.117347</td>\n",
              "    </tr>\n",
              "    <tr>\n",
              "      <th>1</th>\n",
              "      <td>2009</td>\n",
              "      <td>3583</td>\n",
              "      <td>35916</td>\n",
              "      <td>9.071116</td>\n",
              "      <td>90.928884</td>\n",
              "    </tr>\n",
              "    <tr>\n",
              "      <th>2</th>\n",
              "      <td>2010</td>\n",
              "      <td>3635</td>\n",
              "      <td>41007</td>\n",
              "      <td>8.142556</td>\n",
              "      <td>91.857444</td>\n",
              "    </tr>\n",
              "    <tr>\n",
              "      <th>3</th>\n",
              "      <td>2011</td>\n",
              "      <td>4213</td>\n",
              "      <td>40704</td>\n",
              "      <td>9.379522</td>\n",
              "      <td>90.620478</td>\n",
              "    </tr>\n",
              "    <tr>\n",
              "      <th>4</th>\n",
              "      <td>2012</td>\n",
              "      <td>3013</td>\n",
              "      <td>42108</td>\n",
              "      <td>6.677600</td>\n",
              "      <td>93.322400</td>\n",
              "    </tr>\n",
              "    <tr>\n",
              "      <th>5</th>\n",
              "      <td>2013</td>\n",
              "      <td>4215</td>\n",
              "      <td>43673</td>\n",
              "      <td>8.801788</td>\n",
              "      <td>91.198212</td>\n",
              "    </tr>\n",
              "    <tr>\n",
              "      <th>6</th>\n",
              "      <td>2014</td>\n",
              "      <td>2814</td>\n",
              "      <td>46295</td>\n",
              "      <td>5.730111</td>\n",
              "      <td>94.269889</td>\n",
              "    </tr>\n",
              "  </tbody>\n",
              "</table>\n",
              "</div>"
            ],
            "text/plain": [
              "   year  Vacant House  ...  Percent of Vacant House  Percent of Occupied House\n",
              "0  2008          4483  ...                10.882653                  89.117347\n",
              "1  2009          3583  ...                 9.071116                  90.928884\n",
              "2  2010          3635  ...                 8.142556                  91.857444\n",
              "3  2011          4213  ...                 9.379522                  90.620478\n",
              "4  2012          3013  ...                 6.677600                  93.322400\n",
              "5  2013          4215  ...                 8.801788                  91.198212\n",
              "6  2014          2814  ...                 5.730111                  94.269889\n",
              "\n",
              "[7 rows x 5 columns]"
            ]
          },
          "metadata": {
            "tags": []
          },
          "execution_count": 38
        }
      ]
    },
    {
      "cell_type": "code",
      "metadata": {
        "colab": {
          "base_uri": "https://localhost:8080/"
        },
        "id": "WbamjOeca-On",
        "outputId": "58fac26d-22b1-4092-9eee-cbf79a9c64eb"
      },
      "source": [
        "list=[49109,  47888]\r\n",
        "import statistics as s\r\n",
        "s.harmonic_mean(list)"
      ],
      "execution_count": 47,
      "outputs": [
        {
          "output_type": "execute_result",
          "data": {
            "text/plain": [
              "48490.815014897365"
            ]
          },
          "metadata": {
            "tags": []
          },
          "execution_count": 47
        }
      ]
    }
  ]
}