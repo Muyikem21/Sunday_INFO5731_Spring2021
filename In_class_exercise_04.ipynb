{
  "nbformat": 4,
  "nbformat_minor": 0,
  "metadata": {
    "colab": {
      "name": "In_class_exercise_04.ipynb",
      "provenance": [],
      "collapsed_sections": [],
      "include_colab_link": true
    },
    "kernelspec": {
      "display_name": "Python 3",
      "language": "python",
      "name": "python3"
    },
    "language_info": {
      "codemirror_mode": {
        "name": "ipython",
        "version": 3
      },
      "file_extension": ".py",
      "mimetype": "text/x-python",
      "name": "python",
      "nbconvert_exporter": "python",
      "pygments_lexer": "ipython3",
      "version": "3.8.5"
    }
  },
  "cells": [
    {
      "cell_type": "markdown",
      "metadata": {
        "id": "view-in-github",
        "colab_type": "text"
      },
      "source": [
        "<a href=\"https://colab.research.google.com/github/Muyikem21/Sunday_INFO5731_Spring2021/blob/main/In_class_exercise_04.ipynb\" target=\"_parent\"><img src=\"https://colab.research.google.com/assets/colab-badge.svg\" alt=\"Open In Colab\"/></a>"
      ]
    },
    {
      "cell_type": "markdown",
      "metadata": {
        "id": "EuX00KHNeSpw"
      },
      "source": [
        "# **The fourth in-class-exercise (20 points in total, 2/9/2021)**"
      ]
    },
    {
      "cell_type": "markdown",
      "metadata": {
        "id": "s-vTOb03hG1f"
      },
      "source": [
        "# 1. Text Data Preprocessing\n",
        "\n",
        "Here is a [legal case](https://github.com/unt-iialab/info5731_spring2021/blob/main/class_exercises/01-05-1%20%20Adams%20v%20Tanner.txt) we collected from westlaw, please follow the steps we mentioned in lesson 5 to clean the data:\n",
        "\n",
        "\n",
        "\n",
        "## 1.1 Basic feature extraction using text data (4 points)\n",
        "\n",
        "*   Number of sentences\n",
        "*   Number of words\n",
        "*   Number of characters\n",
        "*   Average word length\n",
        "*   Number of stopwords\n",
        "*   Number of special characters\n",
        "*   Number of numerics\n",
        "*   Number of uppercase words\n",
        "\n",
        "## 1.2 Basic Text Pre-processing of text data (4 points)\n",
        "\n",
        "*   Lower casing\n",
        "*   Punctuation removal\n",
        "*   Stopwords removal\n",
        "*   Frequent words removal\n",
        "*   Rare words removal\n",
        "*   Spelling correction\n",
        "*   Tokenization\n",
        "*   Stemming\n",
        "*   Lemmatization\n",
        "\n",
        "## 1.3 Save all the **clean sentences** to a **csv file** (one column, each raw is a sentence) after finishing all the steps above. (4 points)\n",
        "\n",
        "\n",
        "## 1.4 Advance Text Processing (Extra credit: 4 points)\n",
        "\n",
        "*   Calculate the term frequency of all the terms.\n",
        "*   Print out top 10 1-gram, top 10 2-grams, and top 10 3-grams terms as features.\n"
      ]
    },
    {
      "cell_type": "markdown",
      "metadata": {
        "id": "eJtvLGPeyG-M"
      },
      "source": [
        ""
      ]
    },
    {
      "cell_type": "code",
      "metadata": {
        "id": "vR0L3_CreM_A"
      },
      "source": [
        "f = open(\"01-05-1  Adams v Tanner.txt\", \"r\")\n",
        "number_of_lines = 0\n",
        "Number_of_words = 0\n",
        "number_of_characters = 0\n",
        "for line in f:\n",
        "  line = line.strip(\"\\n\") \n",
        "\n",
        "  words = line.rstrip().split()\n",
        "  number_of_lines += 1\n",
        "  number_of_words += len(words)\n",
        "  number_of_characters +=len(line)\n",
        "\n",
        "f.close()\n",
        "print(\"lines:\", number_of_lines, \"words:\", number_of_words,\"characters:\", number_of_characters)\n",
        "\n",
        "count1=0\n",
        "count2=0\n",
        "count1+=1\n",
        "count2+=1\n",
        "average=count1/count2\n",
        "print('Average words per line:', average)\n",
        "stop_words = get_stop_word_list(stop_words_file_name)\n",
        "\n",
        "stop_word_count = 0\n",
        "\n",
        "with open(other_file_name) as other_file:  # note 'context manager' file handling\n",
        "        cleaned_line = clean(line)\n",
        "        for stop_word in stop_words:\n",
        "            if stop_word in cleaned_line:\n",
        "                stop_word_count += cleaned_line.count(stop_word)\n",
        "count_special = 0\n",
        "count_special += sum(not x.isalnum() for x in line)\n",
        "print(count_special)\n",
        "arrayList = []\n",
        "for line in f.readlines():\n",
        "    arrayList.extend(line.split())\n",
        "f.close()\n",
        "up = 0\n",
        "ch = f.read(1)\n",
        "while ch:\n",
        "  ch = f.read(1)\n",
        "  if ch.isupper():\n",
        "    print('Number of Uppercase alphabets is', up)\n",
        "\n"
      ],
      "execution_count": null,
      "outputs": []
    },
    {
      "cell_type": "markdown",
      "metadata": {
        "id": "BBiC4E_kefvV"
      },
      "source": [
        "# 2. Python Regular Expression"
      ]
    },
    {
      "cell_type": "markdown",
      "metadata": {
        "id": "Z1QJ-UwCenvN"
      },
      "source": [
        "## 2.1 Write a Python program to remove leading zeros from an IP address. (4 points)\n",
        "\n",
        "ip = \"260.08.094.109\""
      ]
    },
    {
      "cell_type": "code",
      "metadata": {
        "id": "wSv6fVhOfFmv",
        "colab": {
          "base_uri": "https://localhost:8080/"
        },
        "outputId": "f2ef608e-7d40-4aeb-b8ac-c4af3a1330ae"
      },
      "source": [
        "import re\n",
        "\n",
        "ip = \"260.08.094.109\"\n",
        "ip_1 = re.sub(r'\\.0+', '.', ip)  # It will replace '.' and 1 or more zero with '.'\n",
        "print(ip_1)\n",
        "\n",
        "\n",
        "\n",
        "\n"
      ],
      "execution_count": null,
      "outputs": [
        {
          "output_type": "stream",
          "text": [
            "260.8.94.109\n"
          ],
          "name": "stdout"
        }
      ]
    },
    {
      "cell_type": "markdown",
      "metadata": {
        "id": "PXRjaHzrfKAy"
      },
      "source": [
        "## 2.2 Write a Python Program to extract all the years from the following sentence. (4 points)\n",
        "\n",
        "sentence = \"The 2010s were a dramatic decade, filled with ups and downs, more than 1000 stroies have happened. As the decade comes to a close, Insider took a look back at some of the biggest headline-grabbing stories, from 2010 to 2019. The result was 119 news stories that ranged from the heartwarming rescue of a Thai boys' soccer team from a flooded cave to the divisive election of President Donald Trump.\""
      ]
    },
    {
      "cell_type": "code",
      "metadata": {
        "id": "7xdJpDx9gjbX",
        "colab": {
          "base_uri": "https://localhost:8080/"
        },
        "outputId": "77a1c71c-435b-4a77-c965-7f48c7ac5812"
      },
      "source": [
        "import re\r\n",
        "\r\n",
        "sentence = \"The 2010s were a dramatic decade, filled with ups and downs, more than 1000 stories have happened. As the decade comes to a close, Insider took a look back at some of the biggest headline-grabbing stories, from 2010 to 2019. The result was 119 news stories that ranged from the heartwarming rescue of a Thai boys' soccer team from a flooded cave to the divisive election of President Donald Trump.\"\r\n",
        "years = re.findall(r'(2\\d{3})', sentence)  # It will find all 4 digit number start with 2 and end with any 3 digit numbers\r\n",
        "print(years)  # print"
      ],
      "execution_count": null,
      "outputs": [
        {
          "output_type": "stream",
          "text": [
            "['2010', '2010', '2019']\n"
          ],
          "name": "stdout"
        }
      ]
    }
  ]
}